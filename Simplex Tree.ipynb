{
 "cells": [
  {
   "cell_type": "code",
   "execution_count": 4,
   "id": "d8ed6b88",
   "metadata": {},
   "outputs": [],
   "source": [
    "from IPython.display import Image\n",
    "from os import chdir\n",
    "import numpy as np\n",
    "import matplotlib.pyplot as plt\n",
    "import gudhi as gd"
   ]
  },
  {
   "cell_type": "code",
   "execution_count": 6,
   "id": "8d0e1965",
   "metadata": {},
   "outputs": [],
   "source": [
    "# Create a simplex tree\n",
    "simplex_tree = gd.SimplexTree()"
   ]
  },
  {
   "cell_type": "code",
   "execution_count": 8,
   "id": "df747075",
   "metadata": {},
   "outputs": [
    {
     "data": {
      "text/plain": [
       "True"
      ]
     },
     "execution_count": 8,
     "metadata": {},
     "output_type": "execute_result"
    }
   ],
   "source": [
    "simplex_tree.insert([0,1])\n",
    "simplex_tree.insert([1,2])\n",
    "simplex_tree.insert([3,1])"
   ]
  },
  {
   "cell_type": "code",
   "execution_count": 10,
   "id": "31a9be9b",
   "metadata": {},
   "outputs": [
    {
     "data": {
      "text/plain": [
       "False"
      ]
     },
     "execution_count": 10,
     "metadata": {},
     "output_type": "execute_result"
    }
   ],
   "source": [
    "simplex_tree.insert([0,1])"
   ]
  },
  {
   "cell_type": "code",
   "execution_count": 12,
   "id": "f413cf80",
   "metadata": {},
   "outputs": [],
   "source": [
    "filtrations = simplex_tree.get_filtration()"
   ]
  },
  {
   "cell_type": "code",
   "execution_count": 13,
   "id": "aa0d8d8a",
   "metadata": {},
   "outputs": [
    {
     "name": "stdout",
     "output_type": "stream",
     "text": [
      "([0], 0.0)\n",
      "([1], 0.0)\n",
      "([0, 1], 0.0)\n",
      "([2], 0.0)\n",
      "([1, 2], 0.0)\n",
      "([3], 0.0)\n",
      "([1, 3], 0.0)\n"
     ]
    }
   ],
   "source": [
    "for simplex in filtrations:\n",
    "    print(simplex)"
   ]
  },
  {
   "cell_type": "code",
   "execution_count": 14,
   "id": "aaa543b6",
   "metadata": {},
   "outputs": [
    {
     "name": "stdout",
     "output_type": "stream",
     "text": [
      "1\n"
     ]
    }
   ],
   "source": [
    "print(simplex_tree.dimension())"
   ]
  },
  {
   "cell_type": "code",
   "execution_count": 15,
   "id": "9ecc7353",
   "metadata": {},
   "outputs": [
    {
     "name": "stdout",
     "output_type": "stream",
     "text": [
      "7\n"
     ]
    }
   ],
   "source": [
    "print(simplex_tree.num_simplices())"
   ]
  },
  {
   "cell_type": "code",
   "execution_count": 19,
   "id": "d8eaa30b",
   "metadata": {},
   "outputs": [
    {
     "name": "stdout",
     "output_type": "stream",
     "text": [
      "<generator object at 0x1117b34a0>\n"
     ]
    }
   ],
   "source": [
    "print(simplex_tree.get_skeleton(1))"
   ]
  },
  {
   "cell_type": "code",
   "execution_count": 21,
   "id": "8e0d179e",
   "metadata": {},
   "outputs": [
    {
     "name": "stdout",
     "output_type": "stream",
     "text": [
      "False\n"
     ]
    }
   ],
   "source": [
    "print(simplex_tree.find([3,4]))"
   ]
  },
  {
   "cell_type": "code",
   "execution_count": 22,
   "id": "d977a1b8",
   "metadata": {},
   "outputs": [
    {
     "name": "stdout",
     "output_type": "stream",
     "text": [
      "([0], 0.0)\n",
      "([1], 0.0)\n",
      "([0, 1], 0.0)\n",
      "([2], 0.0)\n",
      "([1, 2], 0.0)\n",
      "([3], 0.0)\n",
      "([1, 3], 0.0)\n",
      "([0, 2], 0.5)\n",
      "([0, 1, 2], 0.5)\n",
      "([2, 3], 0.6)\n",
      "([1, 2, 3], 0.6)\n",
      "([0, 3], 0.7)\n",
      "([0, 1, 3], 0.7)\n"
     ]
    }
   ],
   "source": [
    "simplex_tree.insert([0,1,2], filtration = 0.5)\n",
    "simplex_tree.insert([1,2,3], filtration = 0.6)\n",
    "simplex_tree.insert([0,1,3], filtration = 0.7)\n",
    "\n",
    "filtrations = simplex_tree.get_filtration()\n",
    "for simplex in filtrations:\n",
    "    print(simplex)"
   ]
  },
  {
   "cell_type": "code",
   "execution_count": 23,
   "id": "5578ce22",
   "metadata": {},
   "outputs": [
    {
     "name": "stdout",
     "output_type": "stream",
     "text": [
      "2\n"
     ]
    }
   ],
   "source": [
    "print(simplex_tree.dimension())"
   ]
  },
  {
   "cell_type": "code",
   "execution_count": 24,
   "id": "bec9750a",
   "metadata": {},
   "outputs": [
    {
     "name": "stdout",
     "output_type": "stream",
     "text": [
      "<generator object at 0x111417d60>\n"
     ]
    }
   ],
   "source": [
    "print(simplex_tree.get_skeleton(1))"
   ]
  },
  {
   "cell_type": "code",
   "execution_count": 26,
   "id": "a06e2413",
   "metadata": {},
   "outputs": [
    {
     "name": "stdout",
     "output_type": "stream",
     "text": [
      "([0], 0.0)\n",
      "([0, 1], 0.0)\n",
      "([2], 0.0)\n",
      "([1, 2], 0.0)\n",
      "([3], 0.0)\n",
      "([1, 3], 0.0)\n",
      "([0, 2], 0.5)\n",
      "([0, 1, 2], 0.5)\n",
      "([2, 3], 0.6)\n",
      "([1, 2, 3], 0.6)\n",
      "([0, 3], 0.7)\n",
      "([0, 1, 3], 0.7)\n",
      "([1], 1.0)\n"
     ]
    }
   ],
   "source": [
    "simplex_tree.assign_filtration([1], filtration=1)\n",
    "filtrations = simplex_tree.get_filtration()\n",
    "for simplex in filtrations:\n",
    "    print(simplex)"
   ]
  },
  {
   "cell_type": "code",
   "execution_count": 31,
   "id": "91eb16f2",
   "metadata": {},
   "outputs": [
    {
     "name": "stdout",
     "output_type": "stream",
     "text": [
      "([0], 0.0)\n",
      "([2], 0.0)\n",
      "([3], 0.0)\n",
      "([0, 2], 0.5)\n",
      "([2, 3], 0.6)\n",
      "([0, 3], 0.7)\n",
      "([1], 1.0)\n",
      "([0, 1], 1.0)\n",
      "([1, 2], 1.0)\n",
      "([0, 1, 2], 1.0)\n",
      "([1, 3], 1.0)\n",
      "([0, 1, 3], 1.0)\n",
      "([1, 2, 3], 1.0)\n"
     ]
    }
   ],
   "source": [
    "simplex_tree.make_filtration_non_decreasing()\n",
    "filtrations = simplex_tree.get_filtration()\n",
    "for simplex in filtrations:\n",
    "    print(simplex)"
   ]
  },
  {
   "cell_type": "code",
   "execution_count": 32,
   "id": "d3f9e227",
   "metadata": {},
   "outputs": [],
   "source": [
    "simplex_tree.compute_persistence()"
   ]
  },
  {
   "cell_type": "code",
   "execution_count": 34,
   "id": "52492108",
   "metadata": {},
   "outputs": [],
   "source": [
    "betti_numbers = simplex_tree.betti_numbers()"
   ]
  },
  {
   "cell_type": "code",
   "execution_count": 35,
   "id": "d3ad582b",
   "metadata": {},
   "outputs": [
    {
     "name": "stdout",
     "output_type": "stream",
     "text": [
      "[1, 0]\n"
     ]
    }
   ],
   "source": [
    "print(betti_numbers)"
   ]
  },
  {
   "cell_type": "code",
   "execution_count": 37,
   "id": "e6081842",
   "metadata": {},
   "outputs": [],
   "source": [
    "boundaries = simplex_tree.get_boundaries([1,2,3])"
   ]
  },
  {
   "cell_type": "code",
   "execution_count": 39,
   "id": "b832ae85",
   "metadata": {},
   "outputs": [
    {
     "name": "stdout",
     "output_type": "stream",
     "text": [
      "([1, 2], 1.0)\n",
      "([1, 3], 1.0)\n",
      "([2, 3], 0.6)\n"
     ]
    }
   ],
   "source": [
    "for item in boundaries:\n",
    "    print(item)"
   ]
  },
  {
   "cell_type": "code",
   "execution_count": 45,
   "id": "a09c057b",
   "metadata": {},
   "outputs": [
    {
     "name": "stdout",
     "output_type": "stream",
     "text": [
      "([0, 1, 2], 1.0)\n",
      "([1, 2], 1.0)\n",
      "([1, 2, 3], 1.0)\n"
     ]
    }
   ],
   "source": [
    "co_faces = simplex_tree.get_cofaces([1,2],0)\n",
    "for item in co_faces:\n",
    "    print(item)"
   ]
  },
  {
   "cell_type": "code",
   "execution_count": 46,
   "id": "17178824",
   "metadata": {},
   "outputs": [
    {
     "name": "stdout",
     "output_type": "stream",
     "text": [
      "[(1, (0.7, 1.0)), (0, (0.0, inf)), (0, (0.0, 0.6)), (0, (0.0, 0.5))]\n"
     ]
    }
   ],
   "source": [
    "print(simplex_tree.persistence())"
   ]
  },
  {
   "cell_type": "code",
   "execution_count": 47,
   "id": "17ab97c5",
   "metadata": {},
   "outputs": [
    {
     "name": "stdout",
     "output_type": "stream",
     "text": [
      "[([2], [2, 0]), ([3], [3, 2]), ([3, 0], [3, 2, 1]), ([0], [])]\n"
     ]
    }
   ],
   "source": [
    "print(simplex_tree.persistence_pairs())"
   ]
  }
 ],
 "metadata": {
  "kernelspec": {
   "display_name": "Python 3",
   "language": "python",
   "name": "python3"
  },
  "language_info": {
   "codemirror_mode": {
    "name": "ipython",
    "version": 3
   },
   "file_extension": ".py",
   "mimetype": "text/x-python",
   "name": "python",
   "nbconvert_exporter": "python",
   "pygments_lexer": "ipython3",
   "version": "3.8.2"
  }
 },
 "nbformat": 4,
 "nbformat_minor": 5
}
