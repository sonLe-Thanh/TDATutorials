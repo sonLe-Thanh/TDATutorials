{
 "cells": [
  {
   "cell_type": "markdown",
   "id": "6218961d",
   "metadata": {},
   "source": [
    "The persistence homology is used to analyze protein binding, comparing closed and open forms of the maltose-binding protein (MBP).\n",
    "\n",
    "The distance between $i$ and $j$ is given by \n",
    "$$\n",
    "    D_{ij} = 1 - |C_{ij}|,\n",
    "$$\n",
    "where $C_{ij}$ is the correlation metrices between residues."
   ]
  },
  {
   "cell_type": "code",
   "execution_count": 1,
   "id": "191b99ba",
   "metadata": {},
   "outputs": [],
   "source": [
    "import numpy as np\n",
    "import gudhi as gd\n",
    "import pandas as pd\n",
    "import seaborn as sns"
   ]
  },
  {
   "cell_type": "code",
   "execution_count": 24,
   "id": "05758ffe",
   "metadata": {},
   "outputs": [],
   "source": [
    "corr_protein = pd.read_csv(\"Data/corr/0_mbp_closed/1anf.corr_1.txt\",\n",
    "                          header = None,\n",
    "                          delim_whitespace=True)\n",
    "# Distance defined as above\n",
    "\n",
    "dist_protein_1 = 1 - np.abs(corr_protein.values)"
   ]
  },
  {
   "cell_type": "code",
   "execution_count": 25,
   "id": "cbe9aeac",
   "metadata": {},
   "outputs": [
    {
     "name": "stdout",
     "output_type": "stream",
     "text": [
      "<class 'numpy.ndarray'>\n"
     ]
    }
   ],
   "source": [
    "# Rips complex, param = max_edge_length\n",
    "rips_complex_1= gd.RipsComplex(distance_matrix=dist_protein_1, max_edge_length =1.1)"
   ]
  }
 ],
 "metadata": {
  "kernelspec": {
   "display_name": "Python 3",
   "language": "python",
   "name": "python3"
  },
  "language_info": {
   "codemirror_mode": {
    "name": "ipython",
    "version": 3
   },
   "file_extension": ".py",
   "mimetype": "text/x-python",
   "name": "python",
   "nbconvert_exporter": "python",
   "pygments_lexer": "ipython3",
   "version": "3.8.2"
  }
 },
 "nbformat": 4,
 "nbformat_minor": 5
}
