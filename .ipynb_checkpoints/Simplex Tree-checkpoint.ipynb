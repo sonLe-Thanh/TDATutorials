{
 "cells": [
  {
   "cell_type": "code",
   "execution_count": 4,
   "id": "98dd07a5",
   "metadata": {},
   "outputs": [],
   "source": [
    "from IPython.display import Image\n",
    "from os import chdir\n",
    "import numpy as np\n",
    "import matplotlib.pyplot as plt\n",
    "import gudhi as gd"
   ]
  },
  {
   "cell_type": "code",
   "execution_count": 6,
   "id": "53dc54d9",
   "metadata": {},
   "outputs": [],
   "source": [
    "# Create a simplex tree\n",
    "simplex_tree = gd.SimplexTree()"
   ]
  },
  {
   "cell_type": "code",
   "execution_count": 8,
   "id": "4455eda0",
   "metadata": {},
   "outputs": [
    {
     "data": {
      "text/plain": [
       "True"
      ]
     },
     "execution_count": 8,
     "metadata": {},
     "output_type": "execute_result"
    }
   ],
   "source": [
    "simplex_tree.insert([0,1])\n",
    "simplex_tree.insert([1,2])\n",
    "simplex_tree.insert([3,1])"
   ]
  },
  {
   "cell_type": "code",
   "execution_count": null,
   "id": "59f33ce9",
   "metadata": {},
   "outputs": [],
   "source": []
  }
 ],
 "metadata": {
  "kernelspec": {
   "display_name": "Python 3",
   "language": "python",
   "name": "python3"
  },
  "language_info": {
   "codemirror_mode": {
    "name": "ipython",
    "version": 3
   },
   "file_extension": ".py",
   "mimetype": "text/x-python",
   "name": "python",
   "nbconvert_exporter": "python",
   "pygments_lexer": "ipython3",
   "version": "3.8.2"
  }
 },
 "nbformat": 4,
 "nbformat_minor": 5
}
